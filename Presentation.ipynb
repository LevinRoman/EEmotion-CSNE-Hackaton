{
 "cells": [
  {
   "cell_type": "markdown",
   "metadata": {},
   "source": [
    "## Data preprocessing"
   ]
  },
  {
   "cell_type": "code",
   "execution_count": 1,
   "metadata": {
    "collapsed": false
   },
   "outputs": [],
   "source": [
    "import pandas as pd\n",
    "import numpy as np\n",
    "import time\n",
    "import datetime\n",
    "import scipy.signal as sp"
   ]
  },
  {
   "cell_type": "code",
   "execution_count": 2,
   "metadata": {
    "collapsed": true
   },
   "outputs": [],
   "source": [
    "columns = ['sample_index', 'C1', 'C2', 'C3', 'C4', 'C5', 'C6', 'C7', 'C8', 'A1', 'A2', 'A3', 'timestamp']"
   ]
  },
  {
   "cell_type": "code",
   "execution_count": 3,
   "metadata": {
    "collapsed": false
   },
   "outputs": [],
   "source": [
    "sean = pd.read_table('recorded_data/Seantry4_GoodandBad/OpenBCI-RAW-Seantry4_GoodandBad.txt', delimiter=',', names=columns)"
   ]
  },
  {
   "cell_type": "code",
   "execution_count": 4,
   "metadata": {
    "collapsed": false
   },
   "outputs": [],
   "source": [
    "sean_time = np.loadtxt('recorded_data/Seantry4_GoodandBad/sean_good_bad_23.57_time')"
   ]
  },
  {
   "cell_type": "code",
   "execution_count": 5,
   "metadata": {
    "collapsed": false
   },
   "outputs": [],
   "source": [
    "sean = sean.dropna()"
   ]
  },
  {
   "cell_type": "code",
   "execution_count": 6,
   "metadata": {
    "collapsed": false
   },
   "outputs": [],
   "source": [
    "sec = []\n",
    "yr = \"2018-04-07\"\n",
    "for i in sean.timestamp:\n",
    "    str_fixed = yr + i\n",
    "    sec.append(datetime.datetime.timestamp(datetime.datetime.strptime(str_fixed, \"%Y-%m-%d %H:%M:%S.%f\")))"
   ]
  },
  {
   "cell_type": "code",
   "execution_count": 7,
   "metadata": {
    "collapsed": false
   },
   "outputs": [],
   "source": [
    "sec = pd.Series(sec, name = 'sec')"
   ]
  },
  {
   "cell_type": "code",
   "execution_count": 8,
   "metadata": {
    "collapsed": false
   },
   "outputs": [],
   "source": [
    "data = pd.concat([sean, sec], axis = 1)"
   ]
  },
  {
   "cell_type": "code",
   "execution_count": 9,
   "metadata": {
    "collapsed": false
   },
   "outputs": [
    {
     "data": {
      "text/plain": [
       "(748026,)"
      ]
     },
     "execution_count": 9,
     "metadata": {},
     "output_type": "execute_result"
    }
   ],
   "source": [
    "start = sec[0]\n",
    "\n",
    "fixed_time = [start]\n",
    "for i in range(754100):\n",
    "    fixed_time.append(fixed_time[-1]+(1/250))\n",
    "    \n",
    "fixed_time = pd.Series(fixed_time, name = 'fixed_time')\n",
    "fixed_time = fixed_time[:data.sec.shape[0]]\n",
    "fixed_time.shape"
   ]
  },
  {
   "cell_type": "code",
   "execution_count": 10,
   "metadata": {
    "collapsed": false
   },
   "outputs": [],
   "source": [
    "data = pd.concat([sean, fixed_time], axis = 1)"
   ]
  },
  {
   "cell_type": "code",
   "execution_count": 11,
   "metadata": {
    "collapsed": false
   },
   "outputs": [],
   "source": [
    "exp_beg = data[abs(fixed_time - sean_time[0]) <= 2*1e-3].index[0]"
   ]
  },
  {
   "cell_type": "code",
   "execution_count": 12,
   "metadata": {
    "collapsed": false
   },
   "outputs": [],
   "source": [
    "nonfiltered_data = data[exp_beg:].drop(['timestamp', 'A1', 'A2', 'A3'], axis = 1).reset_index(drop = True)"
   ]
  },
  {
   "cell_type": "code",
   "execution_count": 13,
   "metadata": {
    "collapsed": true
   },
   "outputs": [],
   "source": [
    "no_white = nonfiltered_data[2560:].reset_index(drop = True)"
   ]
  },
  {
   "cell_type": "code",
   "execution_count": 14,
   "metadata": {
    "collapsed": false
   },
   "outputs": [],
   "source": [
    "# load pictures:\n",
    "pict = np.loadtxt('recorded_data/Seantry4_GoodandBad/sean_good_bad_23.57_pictures_only', dtype='<U9')"
   ]
  },
  {
   "cell_type": "code",
   "execution_count": 15,
   "metadata": {
    "collapsed": false
   },
   "outputs": [
    {
     "data": {
      "text/plain": [
       "(246,)"
      ]
     },
     "execution_count": 15,
     "metadata": {},
     "output_type": "execute_result"
    }
   ],
   "source": [
    "pict.shape"
   ]
  },
  {
   "cell_type": "code",
   "execution_count": 16,
   "metadata": {
    "collapsed": false
   },
   "outputs": [],
   "source": [
    "ans = []\n",
    "for i in pict:\n",
    "    if i[0] == 'P':\n",
    "        ans.append(1) #1 = positive\n",
    "    else:\n",
    "        ans.append(0) #0 -negative\n",
    "    ans.append(3) #3 - black\n",
    "ans = np.array(ans)"
   ]
  },
  {
   "cell_type": "code",
   "execution_count": 17,
   "metadata": {
    "collapsed": false
   },
   "outputs": [
    {
     "data": {
      "text/plain": [
       "492"
      ]
     },
     "execution_count": 17,
     "metadata": {},
     "output_type": "execute_result"
    }
   ],
   "source": [
    "ans.shape[0]"
   ]
  },
  {
   "cell_type": "code",
   "execution_count": 18,
   "metadata": {
    "collapsed": false
   },
   "outputs": [
    {
     "data": {
      "text/plain": [
       "(742253, 10)"
      ]
     },
     "execution_count": 18,
     "metadata": {},
     "output_type": "execute_result"
    }
   ],
   "source": [
    "no_white.shape"
   ]
  },
  {
   "cell_type": "code",
   "execution_count": 19,
   "metadata": {
    "collapsed": false
   },
   "outputs": [],
   "source": [
    "#no_white.head()"
   ]
  },
  {
   "cell_type": "code",
   "execution_count": 20,
   "metadata": {
    "collapsed": false
   },
   "outputs": [],
   "source": [
    "lbl_data = []\n",
    "\n",
    "for i in range(ans.shape[0]):\n",
    "    if ans[i] != 3:\n",
    "        lbl_data.append(no_white[i:i+8*250])\n",
    "    if ans[i] == 3:\n",
    "        lbl_data.append(no_white[i:i+4*250])"
   ]
  },
  {
   "cell_type": "code",
   "execution_count": 21,
   "metadata": {
    "collapsed": false
   },
   "outputs": [],
   "source": [
    "#lbl_data[0].head()"
   ]
  },
  {
   "cell_type": "code",
   "execution_count": 22,
   "metadata": {
    "collapsed": false
   },
   "outputs": [],
   "source": [
    "dataset = []\n",
    "\n",
    "for i in lbl_data:\n",
    "    feature = []\n",
    "    for j in ['C1', 'C2', 'C3', 'C4', 'C5', 'C6', 'C7', 'C8']:\n",
    "        ch = i[j]\n",
    "        f, Pxx_spec = sp.welch(ch, 250, nperseg = 250)\n",
    "        alpha_ch = np.mean(Pxx_spec[(f>=8) & (f<=13)])\n",
    "        beta_ch = np.mean(Pxx_spec[(f>13) & (f<=30)])\n",
    "        theta_ch = np.mean(Pxx_spec[(f>=4) & (f<=7)])\n",
    "        gamma_ch = np.mean(Pxx_spec[(f>=30) & (f<=50)])\n",
    "        feature.append(alpha_ch)\n",
    "        feature.append(beta_ch)\n",
    "        feature.append(theta_ch)\n",
    "        feature.append(gamma_ch)    \n",
    "    dataset.append(feature)"
   ]
  },
  {
   "cell_type": "code",
   "execution_count": 23,
   "metadata": {
    "collapsed": false
   },
   "outputs": [],
   "source": [
    "cols = []\n",
    "for j in ['C1', 'C2', 'C3', 'C4', 'C5', 'C6', 'C7', 'C8']:\n",
    "    col = [i+'_' +j for i in ['alpha', 'beta', 'theta', 'gamma']]\n",
    "    cols +=col"
   ]
  },
  {
   "cell_type": "code",
   "execution_count": 24,
   "metadata": {
    "collapsed": true
   },
   "outputs": [],
   "source": [
    "processed_data = pd.DataFrame(dataset, columns=cols)"
   ]
  },
  {
   "cell_type": "markdown",
   "metadata": {},
   "source": [
    "## Training the model"
   ]
  },
  {
   "cell_type": "code",
   "execution_count": 25,
   "metadata": {
    "collapsed": false
   },
   "outputs": [],
   "source": [
    "from sklearn.svm import SVC"
   ]
  },
  {
   "cell_type": "code",
   "execution_count": 26,
   "metadata": {
    "collapsed": false
   },
   "outputs": [],
   "source": [
    "#clf = SVC()#class_weight = 'balanced')\n",
    "#clf.fit(processed_data[:400], ans[:400]) "
   ]
  },
  {
   "cell_type": "code",
   "execution_count": 27,
   "metadata": {
    "collapsed": false
   },
   "outputs": [],
   "source": [
    "from sklearn.metrics import accuracy_score\n",
    "#ans_pred= clf.predict(processed_data[400:])\n",
    "#accuracy_score(ans[400:], ans_pred)"
   ]
  },
  {
   "cell_type": "code",
   "execution_count": 28,
   "metadata": {
    "collapsed": false
   },
   "outputs": [
    {
     "data": {
      "text/plain": [
       "RandomForestClassifier(bootstrap=True, class_weight='balanced',\n",
       "            criterion='gini', max_depth=100000, max_features='auto',\n",
       "            max_leaf_nodes=None, min_impurity_decrease=0.0,\n",
       "            min_impurity_split=None, min_samples_leaf=1,\n",
       "            min_samples_split=2, min_weight_fraction_leaf=0.0,\n",
       "            n_estimators=1000, n_jobs=1, oob_score=False, random_state=0,\n",
       "            verbose=0, warm_start=False)"
      ]
     },
     "execution_count": 28,
     "metadata": {},
     "output_type": "execute_result"
    }
   ],
   "source": [
    "from sklearn.ensemble import RandomForestClassifier\n",
    "\n",
    "rf = RandomForestClassifier(n_estimators = 1000, max_depth=100000, random_state = 0,class_weight = 'balanced')\n",
    "rf.fit(processed_data[:400], ans[:400]) "
   ]
  },
  {
   "cell_type": "code",
   "execution_count": 29,
   "metadata": {
    "collapsed": false
   },
   "outputs": [
    {
     "name": "stdout",
     "output_type": "stream",
     "text": [
      "Accuracy on 18% of data: 1.0\n"
     ]
    }
   ],
   "source": [
    "ans_pred= rf.predict(processed_data[:400])\n",
    "\n",
    "print('Accuracy on 18% of data:', accuracy_score(ans[:400], ans_pred))"
   ]
  },
  {
   "cell_type": "code",
   "execution_count": 30,
   "metadata": {
    "collapsed": false
   },
   "outputs": [
    {
     "name": "stdout",
     "output_type": "stream",
     "text": [
      "Cross-validation on 6 folds score: 0.643010662401706\n"
     ]
    }
   ],
   "source": [
    "from sklearn.model_selection import cross_val_score\n",
    "scores = cross_val_score(rf, processed_data, ans, cv=4)\n",
    "print('Cross-validation on 6 folds score:',np.mean(scores))"
   ]
  },
  {
   "cell_type": "code",
   "execution_count": 31,
   "metadata": {
    "collapsed": false
   },
   "outputs": [],
   "source": [
    "#DEMO OPENBCI\n",
    "\n",
    "#import time\n",
    "#def follow(thefile):\n",
    "    #thefile.seek(0,2)\n",
    "#    while True:\n",
    "#        line = thefile.readline()\n",
    "#        if not line:\n",
    "#            time.sleep(0.1)\n",
    "#            continue\n",
    "#        yield line\n",
    "\n",
    "#if __name__ == '__main__':\n",
    "#logfile = open(\"sean_EEG\",\"r\")\n",
    "#loglines = follow(logfile)\n",
    "#current_data = []\n",
    "#for line in loglines:\n",
    "#    if (line[0:1] != '\\n') and (line[0:1] != '--') and (line[0:1] != 'ID') and (line.count('.') != 3):\n",
    "#        my_float_list = [float(x) for x in line[:-1].split(',')]\n",
    "#        current_data.append(my_float_list)\n",
    "#    if len(current_data) == 1:\n",
    "#        print(line)\n",
    "    #pass\n",
    "    #print(line)"
   ]
  },
  {
   "cell_type": "code",
   "execution_count": 32,
   "metadata": {
    "collapsed": false
   },
   "outputs": [],
   "source": [
    "#current_data"
   ]
  },
  {
   "cell_type": "code",
   "execution_count": 33,
   "metadata": {
    "collapsed": false
   },
   "outputs": [
    {
     "data": {
      "text/html": [
       "<div>\n",
       "<style scoped>\n",
       "    .dataframe tbody tr th:only-of-type {\n",
       "        vertical-align: middle;\n",
       "    }\n",
       "\n",
       "    .dataframe tbody tr th {\n",
       "        vertical-align: top;\n",
       "    }\n",
       "\n",
       "    .dataframe thead th {\n",
       "        text-align: right;\n",
       "    }\n",
       "</style>\n",
       "<table border=\"1\" class=\"dataframe\">\n",
       "  <thead>\n",
       "    <tr style=\"text-align: right;\">\n",
       "      <th></th>\n",
       "      <th>sample_index</th>\n",
       "      <th>C1</th>\n",
       "      <th>C2</th>\n",
       "      <th>C3</th>\n",
       "      <th>C4</th>\n",
       "      <th>C5</th>\n",
       "      <th>C6</th>\n",
       "      <th>C7</th>\n",
       "      <th>C8</th>\n",
       "      <th>fixed_time</th>\n",
       "    </tr>\n",
       "  </thead>\n",
       "  <tbody>\n",
       "    <tr>\n",
       "      <th>0</th>\n",
       "      <td>254</td>\n",
       "      <td>76513.39</td>\n",
       "      <td>131766.45</td>\n",
       "      <td>33177.09</td>\n",
       "      <td>131464.44</td>\n",
       "      <td>83188.27</td>\n",
       "      <td>183180.31</td>\n",
       "      <td>154597.98</td>\n",
       "      <td>174303.56</td>\n",
       "      <td>1.523167e+09</td>\n",
       "    </tr>\n",
       "    <tr>\n",
       "      <th>1</th>\n",
       "      <td>255</td>\n",
       "      <td>76456.30</td>\n",
       "      <td>131766.44</td>\n",
       "      <td>33188.96</td>\n",
       "      <td>131413.30</td>\n",
       "      <td>83199.52</td>\n",
       "      <td>183180.78</td>\n",
       "      <td>154584.03</td>\n",
       "      <td>174310.98</td>\n",
       "      <td>1.523167e+09</td>\n",
       "    </tr>\n",
       "    <tr>\n",
       "      <th>2</th>\n",
       "      <td>0</td>\n",
       "      <td>76337.04</td>\n",
       "      <td>131742.30</td>\n",
       "      <td>33211.14</td>\n",
       "      <td>131348.88</td>\n",
       "      <td>83211.81</td>\n",
       "      <td>183176.25</td>\n",
       "      <td>154591.70</td>\n",
       "      <td>174313.78</td>\n",
       "      <td>1.523167e+09</td>\n",
       "    </tr>\n",
       "    <tr>\n",
       "      <th>3</th>\n",
       "      <td>1</td>\n",
       "      <td>76386.05</td>\n",
       "      <td>131744.16</td>\n",
       "      <td>33210.45</td>\n",
       "      <td>131382.13</td>\n",
       "      <td>83209.82</td>\n",
       "      <td>183176.86</td>\n",
       "      <td>154601.16</td>\n",
       "      <td>174319.33</td>\n",
       "      <td>1.523167e+09</td>\n",
       "    </tr>\n",
       "    <tr>\n",
       "      <th>4</th>\n",
       "      <td>2</td>\n",
       "      <td>76516.57</td>\n",
       "      <td>131771.44</td>\n",
       "      <td>33195.38</td>\n",
       "      <td>131458.20</td>\n",
       "      <td>83195.34</td>\n",
       "      <td>183176.61</td>\n",
       "      <td>154596.80</td>\n",
       "      <td>174316.88</td>\n",
       "      <td>1.523167e+09</td>\n",
       "    </tr>\n",
       "  </tbody>\n",
       "</table>\n",
       "</div>"
      ],
      "text/plain": [
       "   sample_index        C1         C2        C3         C4        C5  \\\n",
       "0           254  76513.39  131766.45  33177.09  131464.44  83188.27   \n",
       "1           255  76456.30  131766.44  33188.96  131413.30  83199.52   \n",
       "2             0  76337.04  131742.30  33211.14  131348.88  83211.81   \n",
       "3             1  76386.05  131744.16  33210.45  131382.13  83209.82   \n",
       "4             2  76516.57  131771.44  33195.38  131458.20  83195.34   \n",
       "\n",
       "          C6         C7         C8    fixed_time  \n",
       "0  183180.31  154597.98  174303.56  1.523167e+09  \n",
       "1  183180.78  154584.03  174310.98  1.523167e+09  \n",
       "2  183176.25  154591.70  174313.78  1.523167e+09  \n",
       "3  183176.86  154601.16  174319.33  1.523167e+09  \n",
       "4  183176.61  154596.80  174316.88  1.523167e+09  "
      ]
     },
     "execution_count": 33,
     "metadata": {},
     "output_type": "execute_result"
    }
   ],
   "source": [
    "no_white.head()"
   ]
  },
  {
   "cell_type": "code",
   "execution_count": 34,
   "metadata": {
    "collapsed": false
   },
   "outputs": [
    {
     "data": {
      "text/plain": [
       "3"
      ]
     },
     "execution_count": 34,
     "metadata": {},
     "output_type": "execute_result"
    }
   ],
   "source": [
    "rf.predict(processed_data[1:2])[0]"
   ]
  },
  {
   "cell_type": "code",
   "execution_count": 35,
   "metadata": {
    "collapsed": true
   },
   "outputs": [],
   "source": [
    "def feat_extract(i):\n",
    "    feature = []\n",
    "    for j in ['C1', 'C2', 'C3', 'C4', 'C5', 'C6', 'C7', 'C8']:\n",
    "        ch = i[j]\n",
    "        f, Pxx_spec = sp.welch(ch, 250, nperseg = 250)\n",
    "        alpha_ch = np.mean(Pxx_spec[(f>=8) & (f<=13)])\n",
    "        beta_ch = np.mean(Pxx_spec[(f>13) & (f<=30)])\n",
    "        theta_ch = np.mean(Pxx_spec[(f>=4) & (f<=7)])\n",
    "        gamma_ch = np.mean(Pxx_spec[(f>=30) & (f<=50)])\n",
    "        feature.append(alpha_ch)\n",
    "        feature.append(beta_ch)\n",
    "        feature.append(theta_ch)\n",
    "        feature.append(gamma_ch)  \n",
    "    return np.array(feature)"
   ]
  },
  {
   "cell_type": "code",
   "execution_count": 36,
   "metadata": {
    "collapsed": true
   },
   "outputs": [],
   "source": [
    "def show_emotion(prediction):\n",
    "    if prediction[0] == 1: #positive\n",
    "        img = cv.imread('experiment/emotions/happy.jpg',-1)\n",
    "    if prediction[0] == 0: #negative\n",
    "        img = cv.imread('experiment/emotions/sad.png',-1)\n",
    "    if prediction[0] == 3: #black\n",
    "        img = cv.imread('experiment/emotions/Neutral.png',-1)\n",
    "    return img"
   ]
  },
  {
   "cell_type": "code",
   "execution_count": 37,
   "metadata": {
    "collapsed": false
   },
   "outputs": [
    {
     "data": {
      "text/plain": [
       "(246,)"
      ]
     },
     "execution_count": 37,
     "metadata": {},
     "output_type": "execute_result"
    }
   ],
   "source": [
    "pict.shape"
   ]
  },
  {
   "cell_type": "code",
   "execution_count": 44,
   "metadata": {
    "collapsed": false
   },
   "outputs": [],
   "source": [
    "import cv2 as cv\n",
    "import os\n",
    "import numpy as np\n",
    "import pandas as pd\n",
    "from os import listdir\n",
    "from os.path import isfile, join\n",
    "\n",
    "cv.namedWindow(\"picture\", cv.WINDOW_NORMAL)\n",
    "cv.namedWindow(\"emotion\", cv.WINDOW_NORMAL)\n",
    "#cv.imshow('window',white_image)\n",
    "#key = cv.waitKey(10000)\n",
    "black_image = np.zeros((600, 600, 3), np.uint8)\n",
    "it = 0\n",
    "present_data = lbl_data[82*5:]\n",
    "for name in pict[41*5:]:\n",
    "    #cv.setWindowProperty(\"window\",cv.WND_PROP_FULLSCREEN,cv.WINDOW_FULLSCREEN)\n",
    "    img = cv.imread('experiment/pictures/'+name,-1)\n",
    "    current = present_data[it]\n",
    "    \n",
    "    to_predict = [feat_extract(current)]\n",
    "    prediction = rf.predict(to_predict)\n",
    "    em = show_emotion(prediction)\n",
    "    \n",
    "    cv.imshow('picture', img)\n",
    "    cv.imshow('emotion', em)\n",
    "    key = cv.waitKey(3000)\n",
    "    it += 1\n",
    "    current = present_data[it]\n",
    "    \n",
    "    to_predict = [feat_extract(current)]\n",
    "    prediction = rf.predict(to_predict)\n",
    "    em = show_emotion(prediction)\n",
    "    \n",
    "    cv.imshow('picture', black_image)\n",
    "    cv.imshow('emotion', em)\n",
    "    key = cv.waitKey(1500)\n",
    "    it += 1\n",
    "    if key == 27: # exit on ESC\n",
    "        break\n",
    "cv.destroyAllWindows()"
   ]
  },
  {
   "cell_type": "code",
   "execution_count": null,
   "metadata": {
    "collapsed": true
   },
   "outputs": [],
   "source": []
  }
 ],
 "metadata": {
  "anaconda-cloud": {},
  "kernelspec": {
   "display_name": "Python [conda root]",
   "language": "python",
   "name": "conda-root-py"
  },
  "language_info": {
   "codemirror_mode": {
    "name": "ipython",
    "version": 3
   },
   "file_extension": ".py",
   "mimetype": "text/x-python",
   "name": "python",
   "nbconvert_exporter": "python",
   "pygments_lexer": "ipython3",
   "version": "3.5.2"
  }
 },
 "nbformat": 4,
 "nbformat_minor": 1
}
