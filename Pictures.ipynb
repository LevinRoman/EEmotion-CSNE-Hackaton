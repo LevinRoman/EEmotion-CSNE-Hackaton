{
 "cells": [
  {
   "cell_type": "code",
   "execution_count": 2,
   "metadata": {
    "collapsed": false
   },
   "outputs": [
    {
     "data": {
      "text/plain": [
       "(246,)"
      ]
     },
     "execution_count": 2,
     "metadata": {},
     "output_type": "execute_result"
    }
   ],
   "source": [
    "import numpy as np\n",
    "import pandas as pd\n",
    "from os import listdir\n",
    "from os.path import isfile, join\n",
    "listdir('experiment/')\n",
    "onlyfiles = np.array([f for f in listdir('experiment/pictures/') if isfile(join('experiment/pictures/', f))])\n",
    "onlyfiles.shape"
   ]
  },
  {
   "cell_type": "code",
   "execution_count": 3,
   "metadata": {
    "collapsed": false
   },
   "outputs": [
    {
     "data": {
      "text/plain": [
       "(82,)"
      ]
     },
     "execution_count": 3,
     "metadata": {},
     "output_type": "execute_result"
    }
   ],
   "source": [
    "np.random.shuffle(onlyfiles)\n",
    "\n",
    "try1 = onlyfiles[:82]\n",
    "try1.shape\n",
    "\n",
    "try2 = onlyfiles[82:82*2]\n",
    "try2.shape\n",
    "\n",
    "try3 = onlyfiles[82*2:]\n",
    "try3.shape"
   ]
  },
  {
   "cell_type": "code",
   "execution_count": 4,
   "metadata": {
    "collapsed": true
   },
   "outputs": [],
   "source": [
    "name = 'sean_garage_1_'"
   ]
  },
  {
   "cell_type": "code",
   "execution_count": 5,
   "metadata": {
    "collapsed": false
   },
   "outputs": [],
   "source": [
    "#onlyfiles"
   ]
  },
  {
   "cell_type": "code",
   "execution_count": 6,
   "metadata": {
    "collapsed": false
   },
   "outputs": [],
   "source": [
    "#try1"
   ]
  },
  {
   "cell_type": "code",
   "execution_count": 7,
   "metadata": {
    "collapsed": false
   },
   "outputs": [],
   "source": [
    "#try2"
   ]
  },
  {
   "cell_type": "code",
   "execution_count": 8,
   "metadata": {
    "collapsed": false
   },
   "outputs": [],
   "source": [
    "#create black picture:\n",
    "\n",
    "# Create a blank 300x300 black image\n",
    "white_image = np.zeros((600, 600, 3), np.uint8)\n",
    "\n",
    "white_image[:] = (255, 255, 255)\n",
    "\n",
    "black_image = np.zeros((600, 600, 3), np.uint8)"
   ]
  },
  {
   "cell_type": "code",
   "execution_count": 9,
   "metadata": {
    "collapsed": false
   },
   "outputs": [],
   "source": [
    "#play the video\n",
    "import cv2 as cv\n",
    "import os\n",
    "import sys\n",
    "import datetime\n",
    "\n",
    "#im_files = [for f in os.listdir('.') if f[-3:] == 'png']\n",
    "def experiment(onlyfiles):\n",
    "    startTime = time.time()\n",
    "\n",
    "    cv.namedWindow(\"window\", cv.WINDOW_NORMAL)\n",
    "\n",
    "    cv.imshow('window',white_image)\n",
    "    key = cv.waitKey(10000)\n",
    "\n",
    "    for name in onlyfiles:\n",
    "        #cv.setWindowProperty(\"window\",cv.WND_PROP_FULLSCREEN,cv.WINDOW_FULLSCREEN)\n",
    "        img = cv.imread('experiment/pictures/'+name,-1)\n",
    "        cv.imshow('window',img)\n",
    "        key = cv.waitKey(8000)\n",
    "        cv.imshow('window',black_image)\n",
    "        key = cv.waitKey(4000)\n",
    "        if key == 27: # exit on ESC\n",
    "            break\n",
    "    storTime_beforedestr = time.time()\n",
    "    cv.destroyAllWindows()\n",
    "    stopTime = time.time()\n",
    "    return onlyfiles, startTime, stopTime"
   ]
  },
  {
   "cell_type": "code",
   "execution_count": 115,
   "metadata": {
    "collapsed": true
   },
   "outputs": [],
   "source": [
    "results1, startTime1, stopTime1 = experiment(try1)\n",
    "np.savetxt(name+'_pictures_try1', results1, fmt='%s')\n",
    "time_1 = [startTime1, stopTime1]\n",
    "np.savetxt(name+'_time_try1', time_1)"
   ]
  },
  {
   "cell_type": "code",
   "execution_count": null,
   "metadata": {
    "collapsed": true
   },
   "outputs": [],
   "source": [
    "results2, startTime2, stopTime2 = experiment(try2)\n",
    "np.savetxt(name+'_pictures_try2', results2, fmt='%s')\n",
    "time_2 = [startTime2, stopTime2]\n",
    "np.savetxt(name+'_time_try2', time_2)"
   ]
  },
  {
   "cell_type": "code",
   "execution_count": null,
   "metadata": {
    "collapsed": true
   },
   "outputs": [],
   "source": [
    "results3, startTime3, stopTime3 = experiment(try3)\n",
    "np.savetxt(name+'_pictures_try3', results3, fmt='%s')\n",
    "time_3 = [startTime3, stopTime3]\n",
    "np.savetxt(name+'_time_try3', time_3)"
   ]
  },
  {
   "cell_type": "code",
   "execution_count": 100,
   "metadata": {
    "collapsed": false
   },
   "outputs": [],
   "source": [
    "#startTime"
   ]
  },
  {
   "cell_type": "code",
   "execution_count": 125,
   "metadata": {
    "collapsed": false
   },
   "outputs": [],
   "source": [
    "#datetime.datetime.now()"
   ]
  },
  {
   "cell_type": "code",
   "execution_count": 124,
   "metadata": {
    "collapsed": false
   },
   "outputs": [],
   "source": [
    "#pd-time.time()"
   ]
  },
  {
   "cell_type": "code",
   "execution_count": 123,
   "metadata": {
    "collapsed": false
   },
   "outputs": [],
   "source": [
    "#import datetime\n",
    "#print(\n",
    "#    datetime.datetime.fromtimestamp(\n",
    "#        int(time.time())\n",
    "#    ).strftime('%Y-%m-%d %H:%M:%S'))"
   ]
  },
  {
   "cell_type": "code",
   "execution_count": 101,
   "metadata": {
    "collapsed": false
   },
   "outputs": [],
   "source": [
    "#stopTime"
   ]
  },
  {
   "cell_type": "code",
   "execution_count": 102,
   "metadata": {
    "collapsed": false
   },
   "outputs": [],
   "source": [
    "#results"
   ]
  },
  {
   "cell_type": "code",
   "execution_count": 103,
   "metadata": {
    "collapsed": true
   },
   "outputs": [],
   "source": [
    "#name = results#np.array([results, startTime, stopTime])"
   ]
  },
  {
   "cell_type": "code",
   "execution_count": 104,
   "metadata": {
    "collapsed": false
   },
   "outputs": [],
   "source": [
    "#np.savetxt(name+'_pictures_only', name, fmt='%s')"
   ]
  },
  {
   "cell_type": "code",
   "execution_count": 105,
   "metadata": {
    "collapsed": false
   },
   "outputs": [],
   "source": [
    "#a = np.loadtxt('sean_good_bad_23.57_pictures_only', dtype='<U9')"
   ]
  },
  {
   "cell_type": "code",
   "execution_count": null,
   "metadata": {
    "collapsed": false
   },
   "outputs": [],
   "source": []
  },
  {
   "cell_type": "code",
   "execution_count": 106,
   "metadata": {
    "collapsed": true
   },
   "outputs": [],
   "source": [
    "#b = np.loadtxt('sean_good_bad_23.57_time')"
   ]
  },
  {
   "cell_type": "code",
   "execution_count": 107,
   "metadata": {
    "collapsed": false
   },
   "outputs": [],
   "source": [
    "#print(b)"
   ]
  },
  {
   "cell_type": "code",
   "execution_count": 108,
   "metadata": {
    "collapsed": false
   },
   "outputs": [],
   "source": [
    "#import decimal\n",
    "\n",
    "#d = decimal.Decimal(b[0])"
   ]
  },
  {
   "cell_type": "code",
   "execution_count": null,
   "metadata": {
    "collapsed": true
   },
   "outputs": [],
   "source": []
  }
 ],
 "metadata": {
  "anaconda-cloud": {},
  "kernelspec": {
   "display_name": "Python [conda root]",
   "language": "python",
   "name": "conda-root-py"
  },
  "language_info": {
   "codemirror_mode": {
    "name": "ipython",
    "version": 3
   },
   "file_extension": ".py",
   "mimetype": "text/x-python",
   "name": "python",
   "nbconvert_exporter": "python",
   "pygments_lexer": "ipython3",
   "version": "3.5.2"
  }
 },
 "nbformat": 4,
 "nbformat_minor": 1
}
