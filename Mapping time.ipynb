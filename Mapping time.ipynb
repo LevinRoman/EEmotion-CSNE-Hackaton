{
 "cells": [
  {
   "cell_type": "code",
   "execution_count": 80,
   "metadata": {
    "collapsed": false
   },
   "outputs": [],
   "source": [
    "import pandas as pd\n",
    "import numpy as np\n",
    "import time\n",
    "import datetime\n",
    "import scipy.signal as sp"
   ]
  },
  {
   "cell_type": "code",
   "execution_count": 81,
   "metadata": {
    "collapsed": true
   },
   "outputs": [],
   "source": [
    "columns = ['sample_index', 'C1', 'C2', 'C3', 'C4', 'C5', 'C6', 'C7', 'C8', 'A1', 'A2', 'A3', 'timestamp']"
   ]
  },
  {
   "cell_type": "code",
   "execution_count": 82,
   "metadata": {
    "collapsed": false
   },
   "outputs": [],
   "source": [
    "sean = pd.read_table('recorded_data/Seantry4_GoodandBad/OpenBCI-RAW-Seantry4_GoodandBad.txt', delimiter=',', names=columns)"
   ]
  },
  {
   "cell_type": "code",
   "execution_count": 83,
   "metadata": {
    "collapsed": false
   },
   "outputs": [],
   "source": [
    "sean_time = np.loadtxt('recorded_data/Seantry4_GoodandBad/sean_good_bad_23.57_time')"
   ]
  },
  {
   "cell_type": "code",
   "execution_count": 84,
   "metadata": {
    "collapsed": false
   },
   "outputs": [
    {
     "data": {
      "text/html": [
       "<div>\n",
       "<style scoped>\n",
       "    .dataframe tbody tr th:only-of-type {\n",
       "        vertical-align: middle;\n",
       "    }\n",
       "\n",
       "    .dataframe tbody tr th {\n",
       "        vertical-align: top;\n",
       "    }\n",
       "\n",
       "    .dataframe thead th {\n",
       "        text-align: right;\n",
       "    }\n",
       "</style>\n",
       "<table border=\"1\" class=\"dataframe\">\n",
       "  <thead>\n",
       "    <tr style=\"text-align: right;\">\n",
       "      <th></th>\n",
       "      <th>sample_index</th>\n",
       "      <th>C1</th>\n",
       "      <th>C2</th>\n",
       "      <th>C3</th>\n",
       "      <th>C4</th>\n",
       "      <th>C5</th>\n",
       "      <th>C6</th>\n",
       "      <th>C7</th>\n",
       "      <th>C8</th>\n",
       "      <th>A1</th>\n",
       "      <th>A2</th>\n",
       "      <th>A3</th>\n",
       "      <th>timestamp</th>\n",
       "    </tr>\n",
       "  </thead>\n",
       "  <tbody>\n",
       "    <tr>\n",
       "      <th>0</th>\n",
       "      <td>0</td>\n",
       "      <td>0.00</td>\n",
       "      <td>0.00</td>\n",
       "      <td>0.00</td>\n",
       "      <td>0.00</td>\n",
       "      <td>0.00</td>\n",
       "      <td>0.00</td>\n",
       "      <td>0.00</td>\n",
       "      <td>0.00</td>\n",
       "      <td>0.108</td>\n",
       "      <td>0.936</td>\n",
       "      <td>0.282</td>\n",
       "      <td>23:03:12.163</td>\n",
       "    </tr>\n",
       "    <tr>\n",
       "      <th>1</th>\n",
       "      <td>1</td>\n",
       "      <td>77845.65</td>\n",
       "      <td>128941.87</td>\n",
       "      <td>42941.84</td>\n",
       "      <td>131814.56</td>\n",
       "      <td>82552.90</td>\n",
       "      <td>183557.86</td>\n",
       "      <td>154589.27</td>\n",
       "      <td>174537.75</td>\n",
       "      <td>0.000</td>\n",
       "      <td>0.000</td>\n",
       "      <td>0.000</td>\n",
       "      <td>23:03:12.179</td>\n",
       "    </tr>\n",
       "    <tr>\n",
       "      <th>2</th>\n",
       "      <td>2</td>\n",
       "      <td>77859.23</td>\n",
       "      <td>128942.05</td>\n",
       "      <td>42930.91</td>\n",
       "      <td>131824.58</td>\n",
       "      <td>82528.63</td>\n",
       "      <td>183562.67</td>\n",
       "      <td>154596.53</td>\n",
       "      <td>174540.05</td>\n",
       "      <td>0.000</td>\n",
       "      <td>0.000</td>\n",
       "      <td>0.000</td>\n",
       "      <td>23:03:12.195</td>\n",
       "    </tr>\n",
       "    <tr>\n",
       "      <th>3</th>\n",
       "      <td>3</td>\n",
       "      <td>77930.45</td>\n",
       "      <td>128968.33</td>\n",
       "      <td>42923.82</td>\n",
       "      <td>131877.98</td>\n",
       "      <td>82507.10</td>\n",
       "      <td>183566.89</td>\n",
       "      <td>154591.83</td>\n",
       "      <td>174539.14</td>\n",
       "      <td>0.000</td>\n",
       "      <td>0.000</td>\n",
       "      <td>0.000</td>\n",
       "      <td>23:03:12.228</td>\n",
       "    </tr>\n",
       "    <tr>\n",
       "      <th>4</th>\n",
       "      <td>4</td>\n",
       "      <td>77956.31</td>\n",
       "      <td>128951.30</td>\n",
       "      <td>42911.41</td>\n",
       "      <td>131875.72</td>\n",
       "      <td>82518.55</td>\n",
       "      <td>183582.50</td>\n",
       "      <td>154581.63</td>\n",
       "      <td>174543.89</td>\n",
       "      <td>0.000</td>\n",
       "      <td>0.000</td>\n",
       "      <td>0.000</td>\n",
       "      <td>23:03:12.228</td>\n",
       "    </tr>\n",
       "  </tbody>\n",
       "</table>\n",
       "</div>"
      ],
      "text/plain": [
       "   sample_index        C1         C2        C3         C4        C5  \\\n",
       "0             0      0.00       0.00      0.00       0.00      0.00   \n",
       "1             1  77845.65  128941.87  42941.84  131814.56  82552.90   \n",
       "2             2  77859.23  128942.05  42930.91  131824.58  82528.63   \n",
       "3             3  77930.45  128968.33  42923.82  131877.98  82507.10   \n",
       "4             4  77956.31  128951.30  42911.41  131875.72  82518.55   \n",
       "\n",
       "          C6         C7         C8     A1     A2     A3      timestamp  \n",
       "0       0.00       0.00       0.00  0.108  0.936  0.282   23:03:12.163  \n",
       "1  183557.86  154589.27  174537.75  0.000  0.000  0.000   23:03:12.179  \n",
       "2  183562.67  154596.53  174540.05  0.000  0.000  0.000   23:03:12.195  \n",
       "3  183566.89  154591.83  174539.14  0.000  0.000  0.000   23:03:12.228  \n",
       "4  183582.50  154581.63  174543.89  0.000  0.000  0.000   23:03:12.228  "
      ]
     },
     "execution_count": 84,
     "metadata": {},
     "output_type": "execute_result"
    }
   ],
   "source": [
    "sean.head()"
   ]
  },
  {
   "cell_type": "markdown",
   "metadata": {},
   "source": [
    "### Not needed"
   ]
  },
  {
   "cell_type": "code",
   "execution_count": 6,
   "metadata": {
    "collapsed": false
   },
   "outputs": [
    {
     "data": {
      "text/plain": [
       "Timestamp('1970-01-01 00:00:01.523167405')"
      ]
     },
     "execution_count": 6,
     "metadata": {},
     "output_type": "execute_result"
    }
   ],
   "source": [
    "pd.to_datetime(int(sean_time[0]))"
   ]
  },
  {
   "cell_type": "code",
   "execution_count": 7,
   "metadata": {
    "collapsed": false
   },
   "outputs": [
    {
     "name": "stdout",
     "output_type": "stream",
     "text": [
      "2018-04-07 23:03:25.013417\n"
     ]
    },
    {
     "data": {
      "text/plain": [
       "1523167405.013417"
      ]
     },
     "execution_count": 7,
     "metadata": {},
     "output_type": "execute_result"
    }
   ],
   "source": [
    "import datetime\n",
    "print(datetime.datetime.fromtimestamp((sean_time[0])))\n",
    "datetime.datetime.timestamp(datetime.datetime.fromtimestamp((sean_time[0])))"
   ]
  },
  {
   "cell_type": "code",
   "execution_count": 8,
   "metadata": {
    "collapsed": false
   },
   "outputs": [
    {
     "data": {
      "text/plain": [
       "datetime.datetime(2018, 4, 7, 23, 3, 25, 13417)"
      ]
     },
     "execution_count": 8,
     "metadata": {},
     "output_type": "execute_result"
    }
   ],
   "source": [
    "datetime.datetime.fromtimestamp((sean_time[0]))"
   ]
  },
  {
   "cell_type": "code",
   "execution_count": 117,
   "metadata": {
    "collapsed": false
   },
   "outputs": [
    {
     "data": {
      "text/plain": [
       "0.09758281707763672"
      ]
     },
     "execution_count": 117,
     "metadata": {},
     "output_type": "execute_result"
    }
   ],
   "source": [
    "s = \"2018-04-07 23:03:25.111\"\n"
   ]
  },
  {
   "cell_type": "code",
   "execution_count": 119,
   "metadata": {
    "collapsed": false
   },
   "outputs": [
    {
     "data": {
      "text/plain": [
       "-12.834417343139648"
      ]
     },
     "execution_count": 119,
     "metadata": {},
     "output_type": "execute_result"
    }
   ],
   "source": [
    "yr = \"2018-04-07 \"\n",
    "str_fixed = yr + sean.timestamp[0]\n",
    "datetime.datetime.timestamp(datetime.datetime.strptime(str_fixed, \"%Y-%m-%d %H:%M:%S.%f\")) - sean_time[0]"
   ]
  },
  {
   "cell_type": "markdown",
   "metadata": {},
   "source": [
    "### end"
   ]
  },
  {
   "cell_type": "code",
   "execution_count": 14,
   "metadata": {
    "collapsed": false
   },
   "outputs": [],
   "source": [
    "sean = sean.dropna()"
   ]
  },
  {
   "cell_type": "code",
   "execution_count": 15,
   "metadata": {
    "collapsed": false
   },
   "outputs": [],
   "source": [
    "sec = []\n",
    "yr = \"2018-04-07\"\n",
    "for i in sean.timestamp:\n",
    "    str_fixed = yr + i\n",
    "    sec.append(datetime.datetime.timestamp(datetime.datetime.strptime(str_fixed, \"%Y-%m-%d %H:%M:%S.%f\")))"
   ]
  },
  {
   "cell_type": "code",
   "execution_count": 16,
   "metadata": {
    "collapsed": false
   },
   "outputs": [],
   "source": [
    "sec = pd.Series(sec, name = 'sec')"
   ]
  },
  {
   "cell_type": "code",
   "execution_count": 17,
   "metadata": {
    "collapsed": false
   },
   "outputs": [],
   "source": [
    "data = pd.concat([sean, sec], axis = 1)"
   ]
  },
  {
   "cell_type": "code",
   "execution_count": 18,
   "metadata": {
    "collapsed": false
   },
   "outputs": [
    {
     "data": {
      "text/plain": [
       "1523167405.0134172"
      ]
     },
     "execution_count": 18,
     "metadata": {},
     "output_type": "execute_result"
    }
   ],
   "source": [
    "sean_time[0]"
   ]
  },
  {
   "cell_type": "code",
   "execution_count": 19,
   "metadata": {
    "collapsed": false
   },
   "outputs": [
    {
     "data": {
      "text/plain": [
       "-12.850417137145996"
      ]
     },
     "execution_count": 19,
     "metadata": {},
     "output_type": "execute_result"
    }
   ],
   "source": [
    "data.sec[0] - sean_time[0] "
   ]
  },
  {
   "cell_type": "code",
   "execution_count": 20,
   "metadata": {
    "collapsed": false
   },
   "outputs": [
    {
     "data": {
      "text/plain": [
       "(748026, 14)"
      ]
     },
     "execution_count": 20,
     "metadata": {},
     "output_type": "execute_result"
    }
   ],
   "source": [
    "data.shape"
   ]
  },
  {
   "cell_type": "code",
   "execution_count": 21,
   "metadata": {
    "collapsed": false
   },
   "outputs": [],
   "source": [
    "#data[abs(sec - sean_time[0]) <= 2*1e-2]"
   ]
  },
  {
   "cell_type": "code",
   "execution_count": 22,
   "metadata": {
    "collapsed": false
   },
   "outputs": [],
   "source": [
    "#data1 = pd.concat([data, data[:2]])"
   ]
  },
  {
   "cell_type": "code",
   "execution_count": 23,
   "metadata": {
    "collapsed": false
   },
   "outputs": [],
   "source": [
    "#data1"
   ]
  },
  {
   "cell_type": "code",
   "execution_count": 24,
   "metadata": {
    "collapsed": false
   },
   "outputs": [
    {
     "data": {
      "text/plain": [
       "(748026,)"
      ]
     },
     "execution_count": 24,
     "metadata": {},
     "output_type": "execute_result"
    }
   ],
   "source": [
    "start = sec[0]\n",
    "\n",
    "fixed_time = [start]\n",
    "for i in range(754100):\n",
    "    fixed_time.append(fixed_time[-1]+(1/250))\n",
    "    \n",
    "fixed_time = pd.Series(fixed_time, name = 'fixed_time')\n",
    "fixed_time = fixed_time[:data.sec.shape[0]]\n",
    "fixed_time.shape"
   ]
  },
  {
   "cell_type": "code",
   "execution_count": 25,
   "metadata": {
    "collapsed": false
   },
   "outputs": [],
   "source": [
    "data = pd.concat([sean, fixed_time], axis = 1)"
   ]
  },
  {
   "cell_type": "code",
   "execution_count": 26,
   "metadata": {
    "collapsed": false
   },
   "outputs": [],
   "source": [
    "exp_beg = data[abs(fixed_time - sean_time[0]) <= 2*1e-3].index[0]"
   ]
  },
  {
   "cell_type": "code",
   "execution_count": 27,
   "metadata": {
    "collapsed": false
   },
   "outputs": [],
   "source": [
    "nonfiltered_data = data[exp_beg:].drop(['timestamp', 'A1', 'A2', 'A3'], axis = 1).reset_index(drop = True)\n"
   ]
  },
  {
   "cell_type": "code",
   "execution_count": 28,
   "metadata": {
    "collapsed": false
   },
   "outputs": [
    {
     "data": {
      "text/html": [
       "<div>\n",
       "<style scoped>\n",
       "    .dataframe tbody tr th:only-of-type {\n",
       "        vertical-align: middle;\n",
       "    }\n",
       "\n",
       "    .dataframe tbody tr th {\n",
       "        vertical-align: top;\n",
       "    }\n",
       "\n",
       "    .dataframe thead th {\n",
       "        text-align: right;\n",
       "    }\n",
       "</style>\n",
       "<table border=\"1\" class=\"dataframe\">\n",
       "  <thead>\n",
       "    <tr style=\"text-align: right;\">\n",
       "      <th></th>\n",
       "      <th>sample_index</th>\n",
       "      <th>C1</th>\n",
       "      <th>C2</th>\n",
       "      <th>C3</th>\n",
       "      <th>C4</th>\n",
       "      <th>C5</th>\n",
       "      <th>C6</th>\n",
       "      <th>C7</th>\n",
       "      <th>C8</th>\n",
       "      <th>fixed_time</th>\n",
       "    </tr>\n",
       "  </thead>\n",
       "  <tbody>\n",
       "    <tr>\n",
       "      <th>0</th>\n",
       "      <td>254</td>\n",
       "      <td>78950.43</td>\n",
       "      <td>130486.55</td>\n",
       "      <td>32289.24</td>\n",
       "      <td>131189.09</td>\n",
       "      <td>83367.65</td>\n",
       "      <td>183438.33</td>\n",
       "      <td>154473.06</td>\n",
       "      <td>174455.09</td>\n",
       "      <td>1.523167e+09</td>\n",
       "    </tr>\n",
       "    <tr>\n",
       "      <th>1</th>\n",
       "      <td>255</td>\n",
       "      <td>78933.48</td>\n",
       "      <td>130488.34</td>\n",
       "      <td>32287.00</td>\n",
       "      <td>131159.78</td>\n",
       "      <td>83366.55</td>\n",
       "      <td>183448.00</td>\n",
       "      <td>154466.63</td>\n",
       "      <td>174466.98</td>\n",
       "      <td>1.523167e+09</td>\n",
       "    </tr>\n",
       "    <tr>\n",
       "      <th>2</th>\n",
       "      <td>0</td>\n",
       "      <td>78763.81</td>\n",
       "      <td>130471.35</td>\n",
       "      <td>32293.04</td>\n",
       "      <td>131088.42</td>\n",
       "      <td>83375.27</td>\n",
       "      <td>183446.75</td>\n",
       "      <td>154455.48</td>\n",
       "      <td>174469.69</td>\n",
       "      <td>1.523167e+09</td>\n",
       "    </tr>\n",
       "    <tr>\n",
       "      <th>3</th>\n",
       "      <td>1</td>\n",
       "      <td>78792.09</td>\n",
       "      <td>130478.48</td>\n",
       "      <td>32300.01</td>\n",
       "      <td>131113.45</td>\n",
       "      <td>83381.10</td>\n",
       "      <td>183445.95</td>\n",
       "      <td>154462.89</td>\n",
       "      <td>174465.50</td>\n",
       "      <td>1.523167e+09</td>\n",
       "    </tr>\n",
       "    <tr>\n",
       "      <th>4</th>\n",
       "      <td>2</td>\n",
       "      <td>78935.48</td>\n",
       "      <td>130506.63</td>\n",
       "      <td>32300.57</td>\n",
       "      <td>131192.95</td>\n",
       "      <td>83384.27</td>\n",
       "      <td>183453.97</td>\n",
       "      <td>154470.80</td>\n",
       "      <td>174464.13</td>\n",
       "      <td>1.523167e+09</td>\n",
       "    </tr>\n",
       "  </tbody>\n",
       "</table>\n",
       "</div>"
      ],
      "text/plain": [
       "   sample_index        C1         C2        C3         C4        C5  \\\n",
       "0           254  78950.43  130486.55  32289.24  131189.09  83367.65   \n",
       "1           255  78933.48  130488.34  32287.00  131159.78  83366.55   \n",
       "2             0  78763.81  130471.35  32293.04  131088.42  83375.27   \n",
       "3             1  78792.09  130478.48  32300.01  131113.45  83381.10   \n",
       "4             2  78935.48  130506.63  32300.57  131192.95  83384.27   \n",
       "\n",
       "          C6         C7         C8    fixed_time  \n",
       "0  183438.33  154473.06  174455.09  1.523167e+09  \n",
       "1  183448.00  154466.63  174466.98  1.523167e+09  \n",
       "2  183446.75  154455.48  174469.69  1.523167e+09  \n",
       "3  183445.95  154462.89  174465.50  1.523167e+09  \n",
       "4  183453.97  154470.80  174464.13  1.523167e+09  "
      ]
     },
     "execution_count": 28,
     "metadata": {},
     "output_type": "execute_result"
    }
   ],
   "source": [
    "nonfiltered_data.head()"
   ]
  },
  {
   "cell_type": "code",
   "execution_count": 29,
   "metadata": {
    "collapsed": true
   },
   "outputs": [],
   "source": [
    "no_white = nonfiltered_data[2560:].reset_index(drop = True)"
   ]
  },
  {
   "cell_type": "code",
   "execution_count": 30,
   "metadata": {
    "collapsed": false
   },
   "outputs": [],
   "source": [
    "# load answers:\n",
    "pict = np.loadtxt('recorded_data/Seantry4_GoodandBad/sean_good_bad_23.57_pictures_only', dtype='<U9')"
   ]
  },
  {
   "cell_type": "code",
   "execution_count": 31,
   "metadata": {
    "collapsed": false
   },
   "outputs": [
    {
     "data": {
      "text/plain": [
       "(246,)"
      ]
     },
     "execution_count": 31,
     "metadata": {},
     "output_type": "execute_result"
    }
   ],
   "source": [
    "pict.shape"
   ]
  },
  {
   "cell_type": "code",
   "execution_count": 32,
   "metadata": {
    "collapsed": false
   },
   "outputs": [],
   "source": [
    "ans = []\n",
    "for i in pict:\n",
    "    if i[0] == 'P':\n",
    "        ans.append(1) #1 = positive\n",
    "    else:\n",
    "        ans.append(0) #0 -negative\n",
    "    ans.append(3) #3 - black\n",
    "ans = np.array(ans)"
   ]
  },
  {
   "cell_type": "code",
   "execution_count": 33,
   "metadata": {
    "collapsed": false
   },
   "outputs": [
    {
     "data": {
      "text/plain": [
       "246.0"
      ]
     },
     "execution_count": 33,
     "metadata": {},
     "output_type": "execute_result"
    }
   ],
   "source": [
    "ans.shape[0]/2"
   ]
  },
  {
   "cell_type": "code",
   "execution_count": 34,
   "metadata": {
    "collapsed": false
   },
   "outputs": [
    {
     "data": {
      "text/plain": [
       "(742253, 10)"
      ]
     },
     "execution_count": 34,
     "metadata": {},
     "output_type": "execute_result"
    }
   ],
   "source": [
    "no_white.shape"
   ]
  },
  {
   "cell_type": "code",
   "execution_count": 35,
   "metadata": {
    "collapsed": false
   },
   "outputs": [
    {
     "data": {
      "text/html": [
       "<div>\n",
       "<style scoped>\n",
       "    .dataframe tbody tr th:only-of-type {\n",
       "        vertical-align: middle;\n",
       "    }\n",
       "\n",
       "    .dataframe tbody tr th {\n",
       "        vertical-align: top;\n",
       "    }\n",
       "\n",
       "    .dataframe thead th {\n",
       "        text-align: right;\n",
       "    }\n",
       "</style>\n",
       "<table border=\"1\" class=\"dataframe\">\n",
       "  <thead>\n",
       "    <tr style=\"text-align: right;\">\n",
       "      <th></th>\n",
       "      <th>sample_index</th>\n",
       "      <th>C1</th>\n",
       "      <th>C2</th>\n",
       "      <th>C3</th>\n",
       "      <th>C4</th>\n",
       "      <th>C5</th>\n",
       "      <th>C6</th>\n",
       "      <th>C7</th>\n",
       "      <th>C8</th>\n",
       "      <th>fixed_time</th>\n",
       "    </tr>\n",
       "  </thead>\n",
       "  <tbody>\n",
       "    <tr>\n",
       "      <th>0</th>\n",
       "      <td>254</td>\n",
       "      <td>76513.39</td>\n",
       "      <td>131766.45</td>\n",
       "      <td>33177.09</td>\n",
       "      <td>131464.44</td>\n",
       "      <td>83188.27</td>\n",
       "      <td>183180.31</td>\n",
       "      <td>154597.98</td>\n",
       "      <td>174303.56</td>\n",
       "      <td>1.523167e+09</td>\n",
       "    </tr>\n",
       "    <tr>\n",
       "      <th>1</th>\n",
       "      <td>255</td>\n",
       "      <td>76456.30</td>\n",
       "      <td>131766.44</td>\n",
       "      <td>33188.96</td>\n",
       "      <td>131413.30</td>\n",
       "      <td>83199.52</td>\n",
       "      <td>183180.78</td>\n",
       "      <td>154584.03</td>\n",
       "      <td>174310.98</td>\n",
       "      <td>1.523167e+09</td>\n",
       "    </tr>\n",
       "    <tr>\n",
       "      <th>2</th>\n",
       "      <td>0</td>\n",
       "      <td>76337.04</td>\n",
       "      <td>131742.30</td>\n",
       "      <td>33211.14</td>\n",
       "      <td>131348.88</td>\n",
       "      <td>83211.81</td>\n",
       "      <td>183176.25</td>\n",
       "      <td>154591.70</td>\n",
       "      <td>174313.78</td>\n",
       "      <td>1.523167e+09</td>\n",
       "    </tr>\n",
       "    <tr>\n",
       "      <th>3</th>\n",
       "      <td>1</td>\n",
       "      <td>76386.05</td>\n",
       "      <td>131744.16</td>\n",
       "      <td>33210.45</td>\n",
       "      <td>131382.13</td>\n",
       "      <td>83209.82</td>\n",
       "      <td>183176.86</td>\n",
       "      <td>154601.16</td>\n",
       "      <td>174319.33</td>\n",
       "      <td>1.523167e+09</td>\n",
       "    </tr>\n",
       "    <tr>\n",
       "      <th>4</th>\n",
       "      <td>2</td>\n",
       "      <td>76516.57</td>\n",
       "      <td>131771.44</td>\n",
       "      <td>33195.38</td>\n",
       "      <td>131458.20</td>\n",
       "      <td>83195.34</td>\n",
       "      <td>183176.61</td>\n",
       "      <td>154596.80</td>\n",
       "      <td>174316.88</td>\n",
       "      <td>1.523167e+09</td>\n",
       "    </tr>\n",
       "  </tbody>\n",
       "</table>\n",
       "</div>"
      ],
      "text/plain": [
       "   sample_index        C1         C2        C3         C4        C5  \\\n",
       "0           254  76513.39  131766.45  33177.09  131464.44  83188.27   \n",
       "1           255  76456.30  131766.44  33188.96  131413.30  83199.52   \n",
       "2             0  76337.04  131742.30  33211.14  131348.88  83211.81   \n",
       "3             1  76386.05  131744.16  33210.45  131382.13  83209.82   \n",
       "4             2  76516.57  131771.44  33195.38  131458.20  83195.34   \n",
       "\n",
       "          C6         C7         C8    fixed_time  \n",
       "0  183180.31  154597.98  174303.56  1.523167e+09  \n",
       "1  183180.78  154584.03  174310.98  1.523167e+09  \n",
       "2  183176.25  154591.70  174313.78  1.523167e+09  \n",
       "3  183176.86  154601.16  174319.33  1.523167e+09  \n",
       "4  183176.61  154596.80  174316.88  1.523167e+09  "
      ]
     },
     "execution_count": 35,
     "metadata": {},
     "output_type": "execute_result"
    }
   ],
   "source": [
    "no_white.head()"
   ]
  },
  {
   "cell_type": "code",
   "execution_count": 36,
   "metadata": {
    "collapsed": false
   },
   "outputs": [
    {
     "name": "stdout",
     "output_type": "stream",
     "text": [
      "[0, 1, 2, 3, 4, 5, 6, 7, 8, 9]\n"
     ]
    }
   ],
   "source": [
    "print([i for i in range(10)])"
   ]
  },
  {
   "cell_type": "code",
   "execution_count": 37,
   "metadata": {
    "collapsed": false
   },
   "outputs": [
    {
     "data": {
      "text/plain": [
       "(2000, 10)"
      ]
     },
     "execution_count": 37,
     "metadata": {},
     "output_type": "execute_result"
    }
   ],
   "source": [
    "no_white[0:2000].shape"
   ]
  },
  {
   "cell_type": "code",
   "execution_count": 38,
   "metadata": {
    "collapsed": false
   },
   "outputs": [],
   "source": [
    "lbl_data = []\n",
    "\n",
    "for i in range(ans.shape[0]):\n",
    "    if ans[i] != 3:\n",
    "        lbl_data.append(no_white[i:i+8*250])\n",
    "    if ans[i] == 3:\n",
    "        lbl_data.append(no_white[i:i+4*250])"
   ]
  },
  {
   "cell_type": "code",
   "execution_count": 39,
   "metadata": {
    "collapsed": false
   },
   "outputs": [
    {
     "data": {
      "text/plain": [
       "True"
      ]
     },
     "execution_count": 39,
     "metadata": {},
     "output_type": "execute_result"
    }
   ],
   "source": [
    "len(lbl_data) == len(ans)"
   ]
  },
  {
   "cell_type": "code",
   "execution_count": 40,
   "metadata": {
    "collapsed": false
   },
   "outputs": [
    {
     "data": {
      "text/html": [
       "<div>\n",
       "<style scoped>\n",
       "    .dataframe tbody tr th:only-of-type {\n",
       "        vertical-align: middle;\n",
       "    }\n",
       "\n",
       "    .dataframe tbody tr th {\n",
       "        vertical-align: top;\n",
       "    }\n",
       "\n",
       "    .dataframe thead th {\n",
       "        text-align: right;\n",
       "    }\n",
       "</style>\n",
       "<table border=\"1\" class=\"dataframe\">\n",
       "  <thead>\n",
       "    <tr style=\"text-align: right;\">\n",
       "      <th></th>\n",
       "      <th>sample_index</th>\n",
       "      <th>C1</th>\n",
       "      <th>C2</th>\n",
       "      <th>C3</th>\n",
       "      <th>C4</th>\n",
       "      <th>C5</th>\n",
       "      <th>C6</th>\n",
       "      <th>C7</th>\n",
       "      <th>C8</th>\n",
       "      <th>fixed_time</th>\n",
       "    </tr>\n",
       "  </thead>\n",
       "  <tbody>\n",
       "    <tr>\n",
       "      <th>0</th>\n",
       "      <td>254</td>\n",
       "      <td>76513.39</td>\n",
       "      <td>131766.45</td>\n",
       "      <td>33177.09</td>\n",
       "      <td>131464.44</td>\n",
       "      <td>83188.27</td>\n",
       "      <td>183180.31</td>\n",
       "      <td>154597.98</td>\n",
       "      <td>174303.56</td>\n",
       "      <td>1.523167e+09</td>\n",
       "    </tr>\n",
       "    <tr>\n",
       "      <th>1</th>\n",
       "      <td>255</td>\n",
       "      <td>76456.30</td>\n",
       "      <td>131766.44</td>\n",
       "      <td>33188.96</td>\n",
       "      <td>131413.30</td>\n",
       "      <td>83199.52</td>\n",
       "      <td>183180.78</td>\n",
       "      <td>154584.03</td>\n",
       "      <td>174310.98</td>\n",
       "      <td>1.523167e+09</td>\n",
       "    </tr>\n",
       "    <tr>\n",
       "      <th>2</th>\n",
       "      <td>0</td>\n",
       "      <td>76337.04</td>\n",
       "      <td>131742.30</td>\n",
       "      <td>33211.14</td>\n",
       "      <td>131348.88</td>\n",
       "      <td>83211.81</td>\n",
       "      <td>183176.25</td>\n",
       "      <td>154591.70</td>\n",
       "      <td>174313.78</td>\n",
       "      <td>1.523167e+09</td>\n",
       "    </tr>\n",
       "    <tr>\n",
       "      <th>3</th>\n",
       "      <td>1</td>\n",
       "      <td>76386.05</td>\n",
       "      <td>131744.16</td>\n",
       "      <td>33210.45</td>\n",
       "      <td>131382.13</td>\n",
       "      <td>83209.82</td>\n",
       "      <td>183176.86</td>\n",
       "      <td>154601.16</td>\n",
       "      <td>174319.33</td>\n",
       "      <td>1.523167e+09</td>\n",
       "    </tr>\n",
       "    <tr>\n",
       "      <th>4</th>\n",
       "      <td>2</td>\n",
       "      <td>76516.57</td>\n",
       "      <td>131771.44</td>\n",
       "      <td>33195.38</td>\n",
       "      <td>131458.20</td>\n",
       "      <td>83195.34</td>\n",
       "      <td>183176.61</td>\n",
       "      <td>154596.80</td>\n",
       "      <td>174316.88</td>\n",
       "      <td>1.523167e+09</td>\n",
       "    </tr>\n",
       "  </tbody>\n",
       "</table>\n",
       "</div>"
      ],
      "text/plain": [
       "   sample_index        C1         C2        C3         C4        C5  \\\n",
       "0           254  76513.39  131766.45  33177.09  131464.44  83188.27   \n",
       "1           255  76456.30  131766.44  33188.96  131413.30  83199.52   \n",
       "2             0  76337.04  131742.30  33211.14  131348.88  83211.81   \n",
       "3             1  76386.05  131744.16  33210.45  131382.13  83209.82   \n",
       "4             2  76516.57  131771.44  33195.38  131458.20  83195.34   \n",
       "\n",
       "          C6         C7         C8    fixed_time  \n",
       "0  183180.31  154597.98  174303.56  1.523167e+09  \n",
       "1  183180.78  154584.03  174310.98  1.523167e+09  \n",
       "2  183176.25  154591.70  174313.78  1.523167e+09  \n",
       "3  183176.86  154601.16  174319.33  1.523167e+09  \n",
       "4  183176.61  154596.80  174316.88  1.523167e+09  "
      ]
     },
     "execution_count": 40,
     "metadata": {},
     "output_type": "execute_result"
    }
   ],
   "source": [
    "lbl_data[0].head()"
   ]
  },
  {
   "cell_type": "code",
   "execution_count": 41,
   "metadata": {
    "collapsed": false
   },
   "outputs": [],
   "source": [
    "dataset = []\n",
    "\n",
    "for i in lbl_data:\n",
    "    feature = []\n",
    "    for j in ['C1', 'C2', 'C3', 'C4', 'C5', 'C6', 'C7', 'C8']:\n",
    "        ch = i[j]\n",
    "        f, Pxx_spec = sp.welch(ch, 250, nperseg = 250)\n",
    "        alpha_ch = np.mean(Pxx_spec[(f>=8) & (f<=13)])\n",
    "        beta_ch = np.mean(Pxx_spec[(f>13) & (f<=30)])\n",
    "        theta_ch = np.mean(Pxx_spec[(f>=4) & (f<=7)])\n",
    "        gamma_ch = np.mean(Pxx_spec[(f>=30) & (f<=50)])\n",
    "        feature.append(alpha_ch)\n",
    "        feature.append(beta_ch)\n",
    "        feature.append(theta_ch)\n",
    "        feature.append(gamma_ch)    \n",
    "    dataset.append(feature)"
   ]
  },
  {
   "cell_type": "code",
   "execution_count": 42,
   "metadata": {
    "collapsed": false
   },
   "outputs": [],
   "source": [
    "cols = []\n",
    "for j in ['C1', 'C2', 'C3', 'C4', 'C5', 'C6', 'C7', 'C8']:\n",
    "    col = [i+'_' +j for i in ['alpha', 'beta', 'theta', 'gamma']]\n",
    "    cols +=col"
   ]
  },
  {
   "cell_type": "code",
   "execution_count": 43,
   "metadata": {
    "collapsed": true
   },
   "outputs": [],
   "source": [
    "processed_data = pd.DataFrame(dataset, columns=cols)"
   ]
  },
  {
   "cell_type": "markdown",
   "metadata": {},
   "source": [
    "### End of meaningful part"
   ]
  },
  {
   "cell_type": "code",
   "execution_count": 47,
   "metadata": {
    "collapsed": false
   },
   "outputs": [],
   "source": [
    "#Training\n",
    "\n",
    "from sklearn.svm import SVC"
   ]
  },
  {
   "cell_type": "code",
   "execution_count": 48,
   "metadata": {
    "collapsed": false
   },
   "outputs": [
    {
     "data": {
      "text/plain": [
       "(492, 32)"
      ]
     },
     "execution_count": 48,
     "metadata": {},
     "output_type": "execute_result"
    }
   ],
   "source": [
    "processed_data.shape"
   ]
  },
  {
   "cell_type": "code",
   "execution_count": 49,
   "metadata": {
    "collapsed": false
   },
   "outputs": [
    {
     "data": {
      "text/plain": [
       "(492,)"
      ]
     },
     "execution_count": 49,
     "metadata": {},
     "output_type": "execute_result"
    }
   ],
   "source": [
    "ans.shape"
   ]
  },
  {
   "cell_type": "code",
   "execution_count": 50,
   "metadata": {
    "collapsed": false
   },
   "outputs": [
    {
     "data": {
      "text/plain": [
       "SVC(C=1.0, cache_size=200, class_weight=None, coef0=0.0,\n",
       "  decision_function_shape='ovr', degree=3, gamma='auto', kernel='rbf',\n",
       "  max_iter=-1, probability=False, random_state=None, shrinking=True,\n",
       "  tol=0.001, verbose=False)"
      ]
     },
     "execution_count": 50,
     "metadata": {},
     "output_type": "execute_result"
    }
   ],
   "source": [
    "clf = SVC()#class_weight = 'balanced')\n",
    "clf.fit(processed_data[:400], ans[:400]) \n",
    "#SVC(C=1.0, cache_size=200, class_weight=None, coef0=0.0,\n",
    "#    decision_function_shape='ovr', degree=3, gamma='auto', kernel='rbf',\n",
    "#    max_iter=-1, probability=False, random_state=None, shrinking=True,\n",
    "#    tol=0.001, verbose=False)"
   ]
  },
  {
   "cell_type": "code",
   "execution_count": null,
   "metadata": {
    "collapsed": true
   },
   "outputs": [],
   "source": []
  },
  {
   "cell_type": "code",
   "execution_count": 51,
   "metadata": {
    "collapsed": false
   },
   "outputs": [
    {
     "data": {
      "text/plain": [
       "0.40217391304347827"
      ]
     },
     "execution_count": 51,
     "metadata": {},
     "output_type": "execute_result"
    }
   ],
   "source": [
    "from sklearn.metrics import accuracy_score\n",
    "ans_pred= clf.predict(processed_data[400:])\n",
    "\n",
    "accuracy_score(ans[400:], ans_pred)"
   ]
  },
  {
   "cell_type": "code",
   "execution_count": 52,
   "metadata": {
    "collapsed": false
   },
   "outputs": [
    {
     "data": {
      "text/plain": [
       "RandomForestClassifier(bootstrap=True, class_weight='balanced',\n",
       "            criterion='gini', max_depth=100000, max_features='auto',\n",
       "            max_leaf_nodes=None, min_impurity_decrease=0.0,\n",
       "            min_impurity_split=None, min_samples_leaf=1,\n",
       "            min_samples_split=2, min_weight_fraction_leaf=0.0,\n",
       "            n_estimators=1000, n_jobs=1, oob_score=False, random_state=0,\n",
       "            verbose=0, warm_start=False)"
      ]
     },
     "execution_count": 52,
     "metadata": {},
     "output_type": "execute_result"
    }
   ],
   "source": [
    "from sklearn.ensemble import RandomForestClassifier\n",
    "\n",
    "rf = RandomForestClassifier(n_estimators = 1000, max_depth=100000, random_state = 0,class_weight = 'balanced')\n",
    "rf.fit(processed_data[:400], ans[:400]) "
   ]
  },
  {
   "cell_type": "code",
   "execution_count": 53,
   "metadata": {
    "collapsed": false
   },
   "outputs": [
    {
     "data": {
      "text/plain": [
       "0.7717391304347826"
      ]
     },
     "execution_count": 53,
     "metadata": {},
     "output_type": "execute_result"
    }
   ],
   "source": [
    "ans_pred= rf.predict(processed_data[400:])\n",
    "\n",
    "accuracy_score(ans[400:], ans_pred)"
   ]
  },
  {
   "cell_type": "code",
   "execution_count": 54,
   "metadata": {
    "collapsed": true
   },
   "outputs": [],
   "source": [
    "from sklearn.model_selection import cross_val_score\n",
    "scores = cross_val_score(rf, processed_data, ans, cv=6)"
   ]
  },
  {
   "cell_type": "code",
   "execution_count": 64,
   "metadata": {
    "collapsed": false
   },
   "outputs": [
    {
     "data": {
      "text/plain": [
       "0.6345505478704944"
      ]
     },
     "execution_count": 64,
     "metadata": {},
     "output_type": "execute_result"
    }
   ],
   "source": [
    "np.mean(scores)"
   ]
  },
  {
   "cell_type": "code",
   "execution_count": 68,
   "metadata": {
    "collapsed": false
   },
   "outputs": [
    {
     "data": {
      "text/plain": [
       "1.0"
      ]
     },
     "execution_count": 68,
     "metadata": {},
     "output_type": "execute_result"
    }
   ],
   "source": [
    "float(np.array(['1','2'])[0])"
   ]
  },
  {
   "cell_type": "code",
   "execution_count": 73,
   "metadata": {
    "collapsed": false
   },
   "outputs": [
    {
     "ename": "TypeError",
     "evalue": "only size-1 arrays can be converted to Python scalars",
     "output_type": "error",
     "traceback": [
      "\u001b[0;31m---------------------------------------------------------------------------\u001b[0m",
      "\u001b[0;31mTypeError\u001b[0m                                 Traceback (most recent call last)",
      "\u001b[0;32m<ipython-input-73-f8500378ba75>\u001b[0m in \u001b[0;36m<module>\u001b[0;34m()\u001b[0m\n\u001b[0;32m----> 1\u001b[0;31m \u001b[0mnp\u001b[0m\u001b[0;34m.\u001b[0m\u001b[0mapply_along_axis\u001b[0m\u001b[0;34m(\u001b[0m\u001b[0mfloat\u001b[0m\u001b[0;34m,\u001b[0m \u001b[0;36m0\u001b[0m\u001b[0;34m,\u001b[0m \u001b[0mnp\u001b[0m\u001b[0;34m.\u001b[0m\u001b[0marray\u001b[0m\u001b[0;34m(\u001b[0m\u001b[0;34m[\u001b[0m\u001b[0;34m'1'\u001b[0m\u001b[0;34m,\u001b[0m\u001b[0;34m'2'\u001b[0m\u001b[0;34m]\u001b[0m\u001b[0;34m)\u001b[0m\u001b[0;34m)\u001b[0m\u001b[0;34m\u001b[0m\u001b[0m\n\u001b[0m",
      "\u001b[0;32m/home/levin/anaconda3/lib/python3.5/site-packages/numpy/lib/shape_base.py\u001b[0m in \u001b[0;36mapply_along_axis\u001b[0;34m(func1d, axis, arr, *args, **kwargs)\u001b[0m\n\u001b[1;32m    130\u001b[0m     \u001b[0;32mexcept\u001b[0m \u001b[0mStopIteration\u001b[0m\u001b[0;34m:\u001b[0m\u001b[0;34m\u001b[0m\u001b[0m\n\u001b[1;32m    131\u001b[0m         \u001b[0;32mraise\u001b[0m \u001b[0mValueError\u001b[0m\u001b[0;34m(\u001b[0m\u001b[0;34m'Cannot apply_along_axis when any iteration dimensions are 0'\u001b[0m\u001b[0;34m)\u001b[0m\u001b[0;34m\u001b[0m\u001b[0m\n\u001b[0;32m--> 132\u001b[0;31m     \u001b[0mres\u001b[0m \u001b[0;34m=\u001b[0m \u001b[0masanyarray\u001b[0m\u001b[0;34m(\u001b[0m\u001b[0mfunc1d\u001b[0m\u001b[0;34m(\u001b[0m\u001b[0minarr_view\u001b[0m\u001b[0;34m[\u001b[0m\u001b[0mind0\u001b[0m\u001b[0;34m]\u001b[0m\u001b[0;34m,\u001b[0m \u001b[0;34m*\u001b[0m\u001b[0margs\u001b[0m\u001b[0;34m,\u001b[0m \u001b[0;34m**\u001b[0m\u001b[0mkwargs\u001b[0m\u001b[0;34m)\u001b[0m\u001b[0;34m)\u001b[0m\u001b[0;34m\u001b[0m\u001b[0m\n\u001b[0m\u001b[1;32m    133\u001b[0m \u001b[0;34m\u001b[0m\u001b[0m\n\u001b[1;32m    134\u001b[0m     \u001b[0;31m# build a buffer for storing evaluations of func1d.\u001b[0m\u001b[0;34m\u001b[0m\u001b[0;34m\u001b[0m\u001b[0m\n",
      "\u001b[0;31mTypeError\u001b[0m: only size-1 arrays can be converted to Python scalars"
     ]
    }
   ],
   "source": [
    "np.apply_along_axis(float, 0, np.array(['1','2']))"
   ]
  },
  {
   "cell_type": "code",
   "execution_count": 78,
   "metadata": {
    "collapsed": false
   },
   "outputs": [],
   "source": [
    "#import time\n",
    "#def follow(thefile):\n",
    "    #thefile.seek(0,2)\n",
    "#    while True:\n",
    "#        line = thefile.readline()\n",
    "#        if not line:\n",
    "#            time.sleep(0.1)\n",
    "#            continue\n",
    "#        yield line\n",
    "\n",
    "#if __name__ == '__main__':\n",
    "#logfile = open(\"sean_EEG\",\"r\")\n",
    "#loglines = follow(logfile)\n",
    "#current_data = []\n",
    "#for line in loglines:\n",
    "#    if (line[0:1] != '\\n') and (line[0:1] != '--') and (line[0:1] != 'ID') and (line.count('.') != 3):\n",
    "#        my_float_list = [float(x) for x in line[:-1].split(',')]\n",
    "#        current_data.append(my_float_list)\n",
    "#    if len(current_data) == 1:\n",
    "#        print(line)\n",
    "    #pass\n",
    "    #print(line)"
   ]
  },
  {
   "cell_type": "code",
   "execution_count": 79,
   "metadata": {
    "collapsed": false
   },
   "outputs": [],
   "source": [
    "#current_data"
   ]
  },
  {
   "cell_type": "code",
   "execution_count": null,
   "metadata": {
    "collapsed": true
   },
   "outputs": [],
   "source": [
    "import cv2 as cv\n",
    "import os\n",
    "\n",
    "current = []\n",
    "for i in lbl_data:\n",
    "    feature = []\n",
    "    for j in ['C1', 'C2', 'C3', 'C4', 'C5', 'C6', 'C7', 'C8']:\n",
    "        ch = i[j]\n",
    "        f, Pxx_spec = sp.welch(ch, 250, nperseg = 250)\n",
    "        alpha_ch = np.mean(Pxx_spec[(f>=8) & (f<=13)])\n",
    "        beta_ch = np.mean(Pxx_spec[(f>13) & (f<=30)])\n",
    "        theta_ch = np.mean(Pxx_spec[(f>=4) & (f<=7)])\n",
    "        gamma_ch = np.mean(Pxx_spec[(f>=30) & (f<=50)])\n",
    "        feature.append(alpha_ch)\n",
    "        feature.append(beta_ch)\n",
    "        feature.append(theta_ch)\n",
    "        feature.append(gamma_ch)    \n",
    "    current.append(feature)\n",
    "    if len(current) > 8:\n",
    "        current = current[:-1]\n",
    "    \n",
    "rf.predict(current)\n"
   ]
  },
  {
   "cell_type": "code",
   "execution_count": null,
   "metadata": {
    "collapsed": true
   },
   "outputs": [],
   "source": []
  },
  {
   "cell_type": "code",
   "execution_count": null,
   "metadata": {
    "collapsed": true
   },
   "outputs": [],
   "source": []
  },
  {
   "cell_type": "code",
   "execution_count": null,
   "metadata": {
    "collapsed": true
   },
   "outputs": [],
   "source": []
  },
  {
   "cell_type": "code",
   "execution_count": null,
   "metadata": {
    "collapsed": true
   },
   "outputs": [],
   "source": []
  },
  {
   "cell_type": "code",
   "execution_count": null,
   "metadata": {
    "collapsed": true
   },
   "outputs": [],
   "source": []
  },
  {
   "cell_type": "code",
   "execution_count": null,
   "metadata": {
    "collapsed": true
   },
   "outputs": [],
   "source": []
  },
  {
   "cell_type": "code",
   "execution_count": 59,
   "metadata": {
    "collapsed": false
   },
   "outputs": [
    {
     "data": {
      "text/plain": [
       "GradientBoostingClassifier(criterion='friedman_mse', init=None,\n",
       "              learning_rate=0.1, loss='deviance', max_depth=3,\n",
       "              max_features=None, max_leaf_nodes=None,\n",
       "              min_impurity_decrease=0.0, min_impurity_split=None,\n",
       "              min_samples_leaf=1, min_samples_split=2,\n",
       "              min_weight_fraction_leaf=0.0, n_estimators=5000,\n",
       "              presort='auto', random_state=None, subsample=1.0, verbose=0,\n",
       "              warm_start=False)"
      ]
     },
     "execution_count": 59,
     "metadata": {},
     "output_type": "execute_result"
    }
   ],
   "source": [
    "from sklearn.ensemble import GradientBoostingClassifier\n",
    "\n",
    "gb = GradientBoostingClassifier(n_estimators=5000)\n",
    "gb.fit(processed_data[:400], ans[:400]) "
   ]
  },
  {
   "cell_type": "code",
   "execution_count": 45,
   "metadata": {
    "collapsed": false
   },
   "outputs": [
    {
     "data": {
      "text/plain": [
       "0.5760869565217391"
      ]
     },
     "execution_count": 45,
     "metadata": {},
     "output_type": "execute_result"
    }
   ],
   "source": [
    "ans_pred= gb.predict(processed_data[400:])\n",
    "\n",
    "accuracy_score(ans[400:], ans_pred)"
   ]
  },
  {
   "cell_type": "code",
   "execution_count": 231,
   "metadata": {
    "collapsed": false
   },
   "outputs": [
    {
     "data": {
      "text/plain": [
       "[<matplotlib.lines.Line2D at 0x7fee004b0f98>]"
      ]
     },
     "execution_count": 231,
     "metadata": {},
     "output_type": "execute_result"
    },
    {
     "data": {
      "image/png": "[encoded data removed]",
      "text/plain": [
       "<matplotlib.figure.Figure at 0x7fee004ee860>"
      ]
     },
     "metadata": {},
     "output_type": "display_data"
    }
   ],
   "source": [
    "import matplotlib.pyplot as plt\n",
    "%matplotlib inline\n",
    "\n",
    "plt.plot(f[20:40], Pxx_spec[20:40])"
   ]
  },
  {
   "cell_type": "code",
   "execution_count": null,
   "metadata": {
    "collapsed": true
   },
   "outputs": [],
   "source": []
  },
  {
   "cell_type": "code",
   "execution_count": 105,
   "metadata": {
    "collapsed": false
   },
   "outputs": [
    {
     "data": {
      "text/plain": [
       "1523167405.0134172"
      ]
     },
     "execution_count": 105,
     "metadata": {},
     "output_type": "execute_result"
    }
   ],
   "source": [
    "sean_time[0]"
   ]
  },
  {
   "cell_type": "code",
   "execution_count": 18,
   "metadata": {
    "collapsed": false
   },
   "outputs": [
    {
     "data": {
      "text/plain": [
       "(748025, 14)"
      ]
     },
     "execution_count": 18,
     "metadata": {},
     "output_type": "execute_result"
    }
   ],
   "source": [
    "data.shape"
   ]
  },
  {
   "cell_type": "code",
   "execution_count": 19,
   "metadata": {
    "collapsed": false
   },
   "outputs": [],
   "source": [
    "a = (data.timestamp)"
   ]
  },
  {
   "cell_type": "code",
   "execution_count": 20,
   "metadata": {
    "collapsed": false
   },
   "outputs": [
    {
     "data": {
      "text/plain": [
       "(159219,)"
      ]
     },
     "execution_count": 20,
     "metadata": {},
     "output_type": "execute_result"
    }
   ],
   "source": [
    "a.drop_duplicates().shape"
   ]
  },
  {
   "cell_type": "code",
   "execution_count": 149,
   "metadata": {
    "collapsed": false
   },
   "outputs": [
    {
     "data": {
      "text/plain": [
       "array([1.52316739e+09, 1.52316739e+09, 1.52316739e+09, ...,\n",
       "       1.52317038e+09, 1.52317038e+09, 1.52317038e+09])"
      ]
     },
     "execution_count": 149,
     "metadata": {},
     "output_type": "execute_result"
    }
   ],
   "source": []
  }
 ],
 "metadata": {
  "anaconda-cloud": {},
  "kernelspec": {
   "display_name": "Python [conda root]",
   "language": "python",
   "name": "conda-root-py"
  },
  "language_info": {
   "codemirror_mode": {
    "name": "ipython",
    "version": 3
   },
   "file_extension": ".py",
   "mimetype": "text/x-python",
   "name": "python",
   "nbconvert_exporter": "python",
   "pygments_lexer": "ipython3",
   "version": "3.5.2"
  }
 },
 "nbformat": 4,
 "nbformat_minor": 1
}
